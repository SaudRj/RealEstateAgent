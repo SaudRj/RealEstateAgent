{
 "cells": [
  {
   "cell_type": "markdown",
   "id": "a108af04",
   "metadata": {},
   "source": [
    "This is a starter notebook for the project, you'll have to import the libraries you'll need, you can find a list of the ones available in this workspace in the requirements.txt file in this workspace. "
   ]
  },
  {
   "cell_type": "code",
   "execution_count": 1,
   "id": "6554fd4c",
   "metadata": {},
   "outputs": [],
   "source": [
    "import os\n",
    "\n",
    "os.environ[\"OPENAI_API_KEY\"] = \"voc-1831442288126677345071966cb5bc64e3733.92039541\"\n",
    "os.environ[\"OPENAI_API_BASE\"] = \"https://openai.vocareum.com/v1\"\n",
    "from langchain.llms import OpenAI\n",
    "from langchain.chat_models import ChatOpenAI\n",
    "from langchain.prompts import PromptTemplate\n",
    "from langchain.output_parsers import PydanticOutputParser"
   ]
  },
  {
   "cell_type": "code",
   "execution_count": 2,
   "id": "15365d24",
   "metadata": {},
   "outputs": [
    {
     "name": "stderr",
     "output_type": "stream",
     "text": [
      "/opt/conda/lib/python3.10/site-packages/langchain/llms/openai.py:202: UserWarning: You are trying to use a chat model. This way of initializing it is no longer supported. Instead, please use: `from langchain.chat_models import ChatOpenAI`\n",
      "  warnings.warn(\n",
      "/opt/conda/lib/python3.10/site-packages/langchain/llms/openai.py:790: UserWarning: You are trying to use a chat model. This way of initializing it is no longer supported. Instead, please use: `from langchain.chat_models import ChatOpenAI`\n",
      "  warnings.warn(\n"
     ]
    }
   ],
   "source": [
    "model_name = \"gpt-3.5-turbo\"\n",
    "temp = 0.0\n",
    "model = OpenAI(model_name = model_name, temperature = temp, max_tokens = 2000)"
   ]
  },
  {
   "cell_type": "code",
   "execution_count": 3,
   "id": "aa882db4",
   "metadata": {},
   "outputs": [
    {
     "data": {
      "text/plain": [
       "OpenAIChat(client=<class 'openai.api_resources.chat_completion.ChatCompletion'>, model_kwargs={'temperature': 0.0, 'max_tokens': 2000})"
      ]
     },
     "execution_count": 3,
     "metadata": {},
     "output_type": "execute_result"
    }
   ],
   "source": [
    "model"
   ]
  },
  {
   "cell_type": "code",
   "execution_count": 4,
   "id": "0690353b",
   "metadata": {
    "scrolled": true
   },
   "outputs": [],
   "source": [
    "template = \"\"\"\n",
    "Your Role is a real estate expert\n",
    "Generate {num_listings} real estate listing and make sure to include\n",
    "in each listing : Neighbourhood Name, Price, Number of Bedrooms, Number of Bathrooms,\n",
    "House size, Description and Neighbourhood Description\n",
    "\n",
    "NOTE: Number of Bedrooms and Bathrooms should be integers only\n",
    "Make sure to be creative, talented\n",
    "\n",
    "Example: \n",
    "Neighborhood: Green Oaks\n",
    "Price: $800,000\n",
    "Bedrooms: 3\n",
    "Bathrooms: 2\n",
    "House Size: 2,000 sqft\n",
    "\n",
    "Description: Welcome to this eco-friendly oasis nestled in the heart of Green Oaks. This charming 3-bedroom, 2-bathroom home boasts energy-efficient features such as solar panels and a well-insulated structure. Natural light floods the living spaces, highlighting the beautiful hardwood floors and eco-conscious finishes. The open-concept kitchen and dining area lead to a spacious backyard with a vegetable garden, perfect for the eco-conscious family. Embrace sustainable living without compromising on style in this Green Oaks gem.\n",
    "\n",
    "Neighborhood Description: Green Oaks is a close-knit, environmentally-conscious community with access to organic grocery stores, community gardens, and bike paths. Take a stroll through the nearby Green Oaks Park or grab a cup of coffee at the cozy Green Bean Cafe. With easy access to public transportation and bike lanes, commuting is a breeze.\n",
    "\"\"\"\n",
    "#promptTemplate2 = PromptTemplate(input_variables = [\"num_listings\"],template = template)\n",
    "promptTemplate = PromptTemplate.from_template(template)\n"
   ]
  },
  {
   "cell_type": "code",
   "execution_count": 5,
   "id": "3653dc93",
   "metadata": {},
   "outputs": [],
   "source": [
    "num_listings = 10"
   ]
  },
  {
   "cell_type": "code",
   "execution_count": 6,
   "id": "ed6eeea6",
   "metadata": {},
   "outputs": [],
   "source": [
    "response = model(promptTemplate.format(num_listings = num_listings))"
   ]
  },
  {
   "cell_type": "code",
   "execution_count": 7,
   "id": "6021fbcd",
   "metadata": {
    "scrolled": false
   },
   "outputs": [
    {
     "name": "stdout",
     "output_type": "stream",
     "text": [
      "1. Neighborhood: Sunset Heights\n",
      "Price: $1,200,000\n",
      "Bedrooms: 4\n",
      "Bathrooms: 3\n",
      "House Size: 2,500 sqft\n",
      "Description: Step into luxury living in this stunning 4-bedroom, 3-bathroom home in Sunset Heights. The spacious open floor plan is perfect for entertaining, with a gourmet kitchen featuring high-end appliances and a large island. The master suite boasts a spa-like bathroom with a soaking tub and walk-in shower. Enjoy the beautiful sunset views from the backyard patio, complete with a built-in BBQ and fire pit.\n",
      "Neighborhood Description: Sunset Heights is known for its upscale homes and breathtaking views of the city skyline. Residents enjoy easy access to trendy restaurants, boutique shops, and hiking trails in the nearby mountains.\n",
      "\n",
      "--------------------------------------------------\n",
      "\n",
      "2. Neighborhood: Lakeside Estates\n",
      "Price: $950,000\n",
      "Bedrooms: 5\n",
      "Bathrooms: 4\n",
      "House Size: 3,000 sqft\n",
      "Description: This spacious 5-bedroom, 4-bathroom home in Lakeside Estates offers luxury living at its finest. The gourmet kitchen features granite countertops and stainless steel appliances, while the master suite includes a walk-in closet and en-suite bathroom with a jacuzzi tub. The backyard oasis boasts a sparkling pool, perfect for relaxing on hot summer days.\n",
      "Neighborhood Description: Lakeside Estates is a prestigious waterfront community with access to a private lake for boating and fishing. Residents can enjoy scenic walking trails, community events, and top-rated schools in the area.\n",
      "\n",
      "--------------------------------------------------\n",
      "\n",
      "3. Neighborhood: Oakwood Park\n",
      "Price: $700,000\n",
      "Bedrooms: 3\n",
      "Bathrooms: 2\n",
      "House Size: 1,800 sqft\n",
      "Description: Welcome home to this charming 3-bedroom, 2-bathroom house in Oakwood Park. The cozy living room features a fireplace and hardwood floors, while the updated kitchen includes granite countertops and stainless steel appliances. The backyard patio is perfect for outdoor dining and entertaining.\n",
      "Neighborhood Description: Oakwood Park is a family-friendly neighborhood with tree-lined streets and a community park. Residents can enjoy local cafes, farmers markets, and easy access to public transportation for commuting to downtown.\n",
      "\n",
      "--------------------------------------------------\n",
      "\n",
      "4. Neighborhood: Mountain View Heights\n",
      "Price: $850,000\n",
      "Bedrooms: 4\n",
      "Bathrooms: 3\n",
      "House Size: 2,200 sqft\n",
      "Description: Enjoy panoramic mountain views from this 4-bedroom, 3-bathroom home in Mountain View Heights. The spacious living room features vaulted ceilings and a cozy fireplace, while the gourmet kitchen boasts granite countertops and a breakfast bar. The master suite includes a walk-in closet and en-suite bathroom with dual sinks.\n",
      "Neighborhood Description: Mountain View Heights is a peaceful community surrounded by nature trails and parks. Residents can hike, bike, and explore the great outdoors, while still being close to shopping centers, restaurants, and top-rated schools.\n",
      "\n",
      "--------------------------------------------------\n",
      "\n",
      "5. Neighborhood: Riverfront Estates\n",
      "Price: $1,500,000\n",
      "Bedrooms: 6\n",
      "Bathrooms: 5\n",
      "House Size: 4,000 sqft\n",
      "Description: Live in luxury in this expansive 6-bedroom, 5-bathroom home in Riverfront Estates. The grand foyer leads to a formal dining room and living room with high ceilings and elegant finishes. The gourmet kitchen features a large island and walk-in pantry, while the backyard patio overlooks the tranquil river.\n",
      "Neighborhood Description: Riverfront Estates is an exclusive waterfront community with private boat docks and access to the river for water activities. Residents can enjoy scenic views, walking paths, and a sense of tranquility in this prestigious neighborhood.\n",
      "\n",
      "--------------------------------------------------\n",
      "\n",
      "6. Neighborhood: Willow Creek Meadows\n",
      "Price: $600,000\n",
      "Bedrooms: 3\n",
      "Bathrooms: 2\n",
      "House Size: 1,600 sqft\n",
      "Description: This charming 3-bedroom, 2-bathroom home in Willow Creek Meadows is perfect for first-time homebuyers or downsizers. The open-concept living area features a cozy fireplace and hardwood floors, while the updated kitchen includes quartz countertops and stainless steel appliances. The backyard garden is ideal for relaxing and enjoying the peaceful surroundings.\n",
      "Neighborhood Description: Willow Creek Meadows is a quiet residential neighborhood with tree-lined streets and a community park. Residents can walk to local shops, cafes, and schools, making it a convenient and family-friendly place to call home.\n",
      "\n",
      "--------------------------------------------------\n",
      "\n",
      "7. Neighborhood: Pinecrest Heights\n",
      "Price: $750,000\n",
      "Bedrooms: 4\n",
      "Bathrooms: 3\n",
      "House Size: 2,000 sqft\n",
      "Description: Welcome to this beautifully renovated 4-bedroom, 3-bathroom home in Pinecrest Heights. The open floor plan features a modern kitchen with quartz countertops and a spacious island, while the master suite includes a walk-in closet and luxurious bathroom with a rain shower. The backyard deck is perfect for outdoor entertaining and enjoying the mountain views.\n",
      "Neighborhood Description: Pinecrest Heights is a sought-after neighborhood known for its scenic views and proximity to hiking trails and parks. Residents can enjoy a peaceful and active lifestyle, with easy access to shopping, dining, and entertainment options.\n",
      "\n",
      "--------------------------------------------------\n",
      "\n",
      "8. Neighborhood: Maple Grove Estates\n",
      "Price: $900,000\n",
      "Bedrooms: 5\n",
      "Bathrooms: 4\n",
      "House Size: 2,800 sqft\n",
      "Description: This spacious 5-bedroom, 4-bathroom home in Maple Grove Estates offers luxury living in a peaceful setting. The gourmet kitchen features custom cabinets and high-end appliances, while the master suite includes a sitting area and en-suite bathroom with a soaking tub. The backyard patio is perfect for outdoor dining and relaxing in the hot tub.\n",
      "Neighborhood Description: Maple Grove Estates is a prestigious community with tree-lined streets and well-maintained homes. Residents can enjoy local parks, golf courses, and shopping centers, as well as top-rated schools and easy access to major highways for commuting.\n",
      "\n",
      "--------------------------------------------------\n",
      "\n",
      "9. Neighborhood: Cedar Ridge Heights\n",
      "Price: $850,000\n",
      "Bedrooms: 4\n",
      "Bathrooms: 3\n",
      "House Size: 2,200 sqft\n",
      "Description: Step into this beautifully updated 4-bedroom, 3-bathroom home in Cedar Ridge Heights. The open-concept living area features a cozy fireplace and hardwood floors, while the gourmet kitchen boasts quartz countertops and stainless steel appliances. The master suite includes a walk-in closet and en-suite bathroom with a dual vanity.\n",
      "Neighborhood Description: Cedar Ridge Heights is a quiet and friendly neighborhood with a strong sense of community. Residents can enjoy local parks, walking trails, and nearby shopping and dining options, making it a desirable place to live for families and professionals alike.\n",
      "\n",
      "--------------------------------------------------\n",
      "\n",
      "10. Neighborhood: Oakridge Meadows\n",
      "Price: $700,000\n",
      "Bedrooms: 3\n",
      "Bathrooms: 2\n",
      "House Size: 1,800 sqft\n",
      "Description: Welcome to this charming 3-bedroom, 2-bathroom home in Oakridge Meadows. The bright and airy living room features a fireplace and hardwood floors, while the updated kitchen includes granite countertops and stainless steel appliances. The backyard patio is perfect for outdoor dining and relaxing in the peaceful surroundings.\n",
      "Neighborhood Description: Oakridge Meadows is a family-friendly community with tree-lined streets and a community park. Residents can enjoy local cafes, farmers markets, and easy access to public transportation for commuting to downtown.\n",
      "\n",
      "--------------------------------------------------\n",
      "\n"
     ]
    }
   ],
   "source": [
    "ListingSeperated = response.strip().split(\"\\n\\n\")\n",
    "\n",
    "for eachListing in ListingSeperated:\n",
    "    # Replace \\n with actual new lines\n",
    "    formatted = eachListing.replace('\\n','\\n')\n",
    "    print(formatted)  \n",
    "\n",
    "    \n",
    "    # Print a separator line after descriptions\n",
    "    if \"Neighborhood Description:\" in formatted:\n",
    "        print(\"\\n\" + \"-\"*50 + \"\\n\")  # Separator for readability"
   ]
  },
  {
   "cell_type": "code",
   "execution_count": 8,
   "id": "2d761e42",
   "metadata": {},
   "outputs": [],
   "source": [
    "text = response\n",
    "\n",
    "# Split the text by the neighborhood number pattern\n",
    "import re\n",
    "\n",
    "neighborhoods = re.split(r'\\n(?=\\d+\\.)', text)\n",
    "\n",
    "# Create a list to store the formatted neighborhoods\n",
    "formatted_neighborhoods = []\n",
    "\n",
    "for i in range(num_listings):  # Adjust this number for more neighborhoods\n",
    "    formatted_neighborhoods.append(neighborhoods[i].strip().replace('\\n', ' '))\n",
    "    #formatted_neighborhoods.append(neighborhoods[i].strip().split('\\n'))\n",
    "\n",
    "\n",
    "# Print the result\n",
    "#print(formatted_neighborhoods)\n"
   ]
  },
  {
   "cell_type": "code",
   "execution_count": 9,
   "id": "99d81023",
   "metadata": {},
   "outputs": [
    {
     "data": {
      "text/plain": [
       "'10. Neighborhood: Oakridge Meadows Price: $700,000 Bedrooms: 3 Bathrooms: 2 House Size: 1,800 sqft  Description: Welcome to this charming 3-bedroom, 2-bathroom home in Oakridge Meadows. The bright and airy living room features a fireplace and hardwood floors, while the updated kitchen includes granite countertops and stainless steel appliances. The backyard patio is perfect for outdoor dining and relaxing in the peaceful surroundings.  Neighborhood Description: Oakridge Meadows is a family-friendly community with tree-lined streets and a community park. Residents can enjoy local cafes, farmers markets, and easy access to public transportation for commuting to downtown.'"
      ]
     },
     "execution_count": 9,
     "metadata": {},
     "output_type": "execute_result"
    }
   ],
   "source": [
    "formatted_neighborhoods[9]"
   ]
  },
  {
   "cell_type": "code",
   "execution_count": 42,
   "id": "1ffc4768",
   "metadata": {},
   "outputs": [],
   "source": [
    "with open('listings.txt', 'w') as file:\n",
    "    for listing in formatted_neighborhoods:\n",
    "        file.write(listing)\n",
    "        file.write(\"\\n\" + \"-\"*50 + \"\\n\")"
   ]
  },
  {
   "cell_type": "code",
   "execution_count": null,
   "id": "177656af",
   "metadata": {},
   "outputs": [],
   "source": []
  },
  {
   "cell_type": "code",
   "execution_count": 10,
   "id": "6f7ba0a1",
   "metadata": {},
   "outputs": [
    {
     "name": "stdout",
     "output_type": "stream",
     "text": [
      "Defaulting to user installation because normal site-packages is not writeable\n",
      "Requirement already satisfied: sentence_transformers in /home/student/.local/lib/python3.10/site-packages (3.1.1)\n",
      "Requirement already satisfied: scipy in /opt/conda/lib/python3.10/site-packages (from sentence_transformers) (1.13.0)\n",
      "Requirement already satisfied: scikit-learn in /opt/conda/lib/python3.10/site-packages (from sentence_transformers) (1.4.2)\n",
      "Requirement already satisfied: Pillow in /opt/conda/lib/python3.10/site-packages (from sentence_transformers) (9.4.0)\n",
      "Requirement already satisfied: transformers<5.0.0,>=4.38.0 in /home/student/.local/lib/python3.10/site-packages (from sentence_transformers) (4.45.0)\n",
      "Requirement already satisfied: torch>=1.11.0 in /opt/conda/lib/python3.10/site-packages (from sentence_transformers) (2.0.1)\n",
      "Requirement already satisfied: tqdm in /opt/conda/lib/python3.10/site-packages (from sentence_transformers) (4.65.0)\n",
      "Requirement already satisfied: huggingface-hub>=0.19.3 in /home/student/.local/lib/python3.10/site-packages (from sentence_transformers) (0.25.1)\n",
      "Requirement already satisfied: packaging>=20.9 in /opt/conda/lib/python3.10/site-packages (from huggingface-hub>=0.19.3->sentence_transformers) (23.0)\n",
      "Requirement already satisfied: fsspec>=2023.5.0 in /opt/conda/lib/python3.10/site-packages (from huggingface-hub>=0.19.3->sentence_transformers) (2024.5.0)\n",
      "Requirement already satisfied: pyyaml>=5.1 in /opt/conda/lib/python3.10/site-packages (from huggingface-hub>=0.19.3->sentence_transformers) (6.0)\n",
      "Requirement already satisfied: typing-extensions>=3.7.4.3 in /opt/conda/lib/python3.10/site-packages (from huggingface-hub>=0.19.3->sentence_transformers) (4.11.0)\n",
      "Requirement already satisfied: requests in /opt/conda/lib/python3.10/site-packages (from huggingface-hub>=0.19.3->sentence_transformers) (2.29.0)\n",
      "Requirement already satisfied: filelock in /opt/conda/lib/python3.10/site-packages (from huggingface-hub>=0.19.3->sentence_transformers) (3.9.0)\n",
      "Requirement already satisfied: sympy in /opt/conda/lib/python3.10/site-packages (from torch>=1.11.0->sentence_transformers) (1.12)\n",
      "Requirement already satisfied: networkx in /opt/conda/lib/python3.10/site-packages (from torch>=1.11.0->sentence_transformers) (3.1)\n",
      "Requirement already satisfied: jinja2 in /opt/conda/lib/python3.10/site-packages (from torch>=1.11.0->sentence_transformers) (3.1.2)\n",
      "Requirement already satisfied: safetensors>=0.4.1 in /opt/conda/lib/python3.10/site-packages (from transformers<5.0.0,>=4.38.0->sentence_transformers) (0.4.3)\n",
      "Requirement already satisfied: regex!=2019.12.17 in /opt/conda/lib/python3.10/site-packages (from transformers<5.0.0,>=4.38.0->sentence_transformers) (2024.5.15)\n",
      "Requirement already satisfied: numpy>=1.17 in /opt/conda/lib/python3.10/site-packages (from transformers<5.0.0,>=4.38.0->sentence_transformers) (1.24.3)\n",
      "Requirement already satisfied: tokenizers<0.21,>=0.20 in /home/student/.local/lib/python3.10/site-packages (from transformers<5.0.0,>=4.38.0->sentence_transformers) (0.20.0)\n",
      "Requirement already satisfied: joblib>=1.2.0 in /opt/conda/lib/python3.10/site-packages (from scikit-learn->sentence_transformers) (1.4.2)\n",
      "Requirement already satisfied: threadpoolctl>=2.0.0 in /opt/conda/lib/python3.10/site-packages (from scikit-learn->sentence_transformers) (3.5.0)\n",
      "Requirement already satisfied: MarkupSafe>=2.0 in /opt/conda/lib/python3.10/site-packages (from jinja2->torch>=1.11.0->sentence_transformers) (2.1.1)\n",
      "Requirement already satisfied: certifi>=2017.4.17 in /opt/conda/lib/python3.10/site-packages (from requests->huggingface-hub>=0.19.3->sentence_transformers) (2023.5.7)\n",
      "Requirement already satisfied: idna<4,>=2.5 in /opt/conda/lib/python3.10/site-packages (from requests->huggingface-hub>=0.19.3->sentence_transformers) (3.4)\n",
      "Requirement already satisfied: urllib3<1.27,>=1.21.1 in /opt/conda/lib/python3.10/site-packages (from requests->huggingface-hub>=0.19.3->sentence_transformers) (1.26.15)\n",
      "Requirement already satisfied: charset-normalizer<4,>=2 in /opt/conda/lib/python3.10/site-packages (from requests->huggingface-hub>=0.19.3->sentence_transformers) (2.0.4)\n",
      "Requirement already satisfied: mpmath>=0.19 in /opt/conda/lib/python3.10/site-packages (from sympy->torch>=1.11.0->sentence_transformers) (1.3.0)\n",
      "Note: you may need to restart the kernel to use updated packages.\n"
     ]
    }
   ],
   "source": [
    "pip install sentence_transformers"
   ]
  },
  {
   "cell_type": "code",
   "execution_count": 11,
   "id": "b8e47912",
   "metadata": {},
   "outputs": [
    {
     "name": "stdout",
     "output_type": "stream",
     "text": [
      "Defaulting to user installation because normal site-packages is not writeable\n",
      "Requirement already satisfied: sentence-transformers in /home/student/.local/lib/python3.10/site-packages (3.1.1)\n",
      "Requirement already satisfied: huggingface-hub in /home/student/.local/lib/python3.10/site-packages (0.25.1)\n",
      "Requirement already satisfied: scipy in /opt/conda/lib/python3.10/site-packages (from sentence-transformers) (1.13.0)\n",
      "Requirement already satisfied: transformers<5.0.0,>=4.38.0 in /home/student/.local/lib/python3.10/site-packages (from sentence-transformers) (4.45.0)\n",
      "Requirement already satisfied: torch>=1.11.0 in /opt/conda/lib/python3.10/site-packages (from sentence-transformers) (2.0.1)\n",
      "Requirement already satisfied: Pillow in /opt/conda/lib/python3.10/site-packages (from sentence-transformers) (9.4.0)\n",
      "Requirement already satisfied: tqdm in /opt/conda/lib/python3.10/site-packages (from sentence-transformers) (4.65.0)\n",
      "Requirement already satisfied: scikit-learn in /opt/conda/lib/python3.10/site-packages (from sentence-transformers) (1.4.2)\n",
      "Requirement already satisfied: requests in /opt/conda/lib/python3.10/site-packages (from huggingface-hub) (2.29.0)\n",
      "Requirement already satisfied: packaging>=20.9 in /opt/conda/lib/python3.10/site-packages (from huggingface-hub) (23.0)\n",
      "Requirement already satisfied: filelock in /opt/conda/lib/python3.10/site-packages (from huggingface-hub) (3.9.0)\n",
      "Requirement already satisfied: typing-extensions>=3.7.4.3 in /opt/conda/lib/python3.10/site-packages (from huggingface-hub) (4.11.0)\n",
      "Requirement already satisfied: fsspec>=2023.5.0 in /opt/conda/lib/python3.10/site-packages (from huggingface-hub) (2024.5.0)\n",
      "Requirement already satisfied: pyyaml>=5.1 in /opt/conda/lib/python3.10/site-packages (from huggingface-hub) (6.0)\n",
      "Requirement already satisfied: sympy in /opt/conda/lib/python3.10/site-packages (from torch>=1.11.0->sentence-transformers) (1.12)\n",
      "Requirement already satisfied: networkx in /opt/conda/lib/python3.10/site-packages (from torch>=1.11.0->sentence-transformers) (3.1)\n",
      "Requirement already satisfied: jinja2 in /opt/conda/lib/python3.10/site-packages (from torch>=1.11.0->sentence-transformers) (3.1.2)\n",
      "Requirement already satisfied: numpy>=1.17 in /opt/conda/lib/python3.10/site-packages (from transformers<5.0.0,>=4.38.0->sentence-transformers) (1.24.3)\n",
      "Requirement already satisfied: regex!=2019.12.17 in /opt/conda/lib/python3.10/site-packages (from transformers<5.0.0,>=4.38.0->sentence-transformers) (2024.5.15)\n",
      "Requirement already satisfied: safetensors>=0.4.1 in /opt/conda/lib/python3.10/site-packages (from transformers<5.0.0,>=4.38.0->sentence-transformers) (0.4.3)\n",
      "Requirement already satisfied: tokenizers<0.21,>=0.20 in /home/student/.local/lib/python3.10/site-packages (from transformers<5.0.0,>=4.38.0->sentence-transformers) (0.20.0)\n",
      "Requirement already satisfied: urllib3<1.27,>=1.21.1 in /opt/conda/lib/python3.10/site-packages (from requests->huggingface-hub) (1.26.15)\n",
      "Requirement already satisfied: idna<4,>=2.5 in /opt/conda/lib/python3.10/site-packages (from requests->huggingface-hub) (3.4)\n",
      "Requirement already satisfied: certifi>=2017.4.17 in /opt/conda/lib/python3.10/site-packages (from requests->huggingface-hub) (2023.5.7)\n",
      "Requirement already satisfied: charset-normalizer<4,>=2 in /opt/conda/lib/python3.10/site-packages (from requests->huggingface-hub) (2.0.4)\n",
      "Requirement already satisfied: threadpoolctl>=2.0.0 in /opt/conda/lib/python3.10/site-packages (from scikit-learn->sentence-transformers) (3.5.0)\n",
      "Requirement already satisfied: joblib>=1.2.0 in /opt/conda/lib/python3.10/site-packages (from scikit-learn->sentence-transformers) (1.4.2)\n",
      "Requirement already satisfied: MarkupSafe>=2.0 in /opt/conda/lib/python3.10/site-packages (from jinja2->torch>=1.11.0->sentence-transformers) (2.1.1)\n",
      "Requirement already satisfied: mpmath>=0.19 in /opt/conda/lib/python3.10/site-packages (from sympy->torch>=1.11.0->sentence-transformers) (1.3.0)\n",
      "Note: you may need to restart the kernel to use updated packages.\n"
     ]
    }
   ],
   "source": [
    "pip install --upgrade sentence-transformers huggingface-hub"
   ]
  },
  {
   "cell_type": "code",
   "execution_count": 13,
   "id": "ae6249a8",
   "metadata": {},
   "outputs": [
    {
     "name": "stdout",
     "output_type": "stream",
     "text": [
      "Defaulting to user installation because normal site-packages is not writeable\n",
      "Requirement already satisfied: sentence-transformers in /home/student/.local/lib/python3.10/site-packages (3.1.1)\n",
      "Requirement already satisfied: huggingface-hub>=0.19.3 in /home/student/.local/lib/python3.10/site-packages (from sentence-transformers) (0.25.1)\n",
      "Requirement already satisfied: Pillow in /opt/conda/lib/python3.10/site-packages (from sentence-transformers) (9.4.0)\n",
      "Requirement already satisfied: scikit-learn in /opt/conda/lib/python3.10/site-packages (from sentence-transformers) (1.4.2)\n",
      "Requirement already satisfied: transformers<5.0.0,>=4.38.0 in /home/student/.local/lib/python3.10/site-packages (from sentence-transformers) (4.45.0)\n",
      "Requirement already satisfied: scipy in /opt/conda/lib/python3.10/site-packages (from sentence-transformers) (1.13.0)\n",
      "Requirement already satisfied: torch>=1.11.0 in /opt/conda/lib/python3.10/site-packages (from sentence-transformers) (2.0.1)\n",
      "Requirement already satisfied: tqdm in /opt/conda/lib/python3.10/site-packages (from sentence-transformers) (4.65.0)\n",
      "Requirement already satisfied: typing-extensions>=3.7.4.3 in /opt/conda/lib/python3.10/site-packages (from huggingface-hub>=0.19.3->sentence-transformers) (4.11.0)\n",
      "Requirement already satisfied: fsspec>=2023.5.0 in /opt/conda/lib/python3.10/site-packages (from huggingface-hub>=0.19.3->sentence-transformers) (2024.5.0)\n",
      "Requirement already satisfied: packaging>=20.9 in /opt/conda/lib/python3.10/site-packages (from huggingface-hub>=0.19.3->sentence-transformers) (23.0)\n",
      "Requirement already satisfied: requests in /opt/conda/lib/python3.10/site-packages (from huggingface-hub>=0.19.3->sentence-transformers) (2.29.0)\n",
      "Requirement already satisfied: filelock in /opt/conda/lib/python3.10/site-packages (from huggingface-hub>=0.19.3->sentence-transformers) (3.9.0)\n",
      "Requirement already satisfied: pyyaml>=5.1 in /opt/conda/lib/python3.10/site-packages (from huggingface-hub>=0.19.3->sentence-transformers) (6.0)\n",
      "Requirement already satisfied: sympy in /opt/conda/lib/python3.10/site-packages (from torch>=1.11.0->sentence-transformers) (1.12)\n",
      "Requirement already satisfied: networkx in /opt/conda/lib/python3.10/site-packages (from torch>=1.11.0->sentence-transformers) (3.1)\n",
      "Requirement already satisfied: jinja2 in /opt/conda/lib/python3.10/site-packages (from torch>=1.11.0->sentence-transformers) (3.1.2)\n",
      "Requirement already satisfied: regex!=2019.12.17 in /opt/conda/lib/python3.10/site-packages (from transformers<5.0.0,>=4.38.0->sentence-transformers) (2024.5.15)\n",
      "Requirement already satisfied: safetensors>=0.4.1 in /opt/conda/lib/python3.10/site-packages (from transformers<5.0.0,>=4.38.0->sentence-transformers) (0.4.3)\n",
      "Requirement already satisfied: tokenizers<0.21,>=0.20 in /home/student/.local/lib/python3.10/site-packages (from transformers<5.0.0,>=4.38.0->sentence-transformers) (0.20.0)\n",
      "Requirement already satisfied: numpy>=1.17 in /opt/conda/lib/python3.10/site-packages (from transformers<5.0.0,>=4.38.0->sentence-transformers) (1.24.3)\n",
      "Requirement already satisfied: threadpoolctl>=2.0.0 in /opt/conda/lib/python3.10/site-packages (from scikit-learn->sentence-transformers) (3.5.0)\n",
      "Requirement already satisfied: joblib>=1.2.0 in /opt/conda/lib/python3.10/site-packages (from scikit-learn->sentence-transformers) (1.4.2)\n",
      "Requirement already satisfied: MarkupSafe>=2.0 in /opt/conda/lib/python3.10/site-packages (from jinja2->torch>=1.11.0->sentence-transformers) (2.1.1)\n",
      "Requirement already satisfied: idna<4,>=2.5 in /opt/conda/lib/python3.10/site-packages (from requests->huggingface-hub>=0.19.3->sentence-transformers) (3.4)\n",
      "Requirement already satisfied: urllib3<1.27,>=1.21.1 in /opt/conda/lib/python3.10/site-packages (from requests->huggingface-hub>=0.19.3->sentence-transformers) (1.26.15)\n",
      "Requirement already satisfied: certifi>=2017.4.17 in /opt/conda/lib/python3.10/site-packages (from requests->huggingface-hub>=0.19.3->sentence-transformers) (2023.5.7)\n",
      "Requirement already satisfied: charset-normalizer<4,>=2 in /opt/conda/lib/python3.10/site-packages (from requests->huggingface-hub>=0.19.3->sentence-transformers) (2.0.4)\n",
      "Requirement already satisfied: mpmath>=0.19 in /opt/conda/lib/python3.10/site-packages (from sympy->torch>=1.11.0->sentence-transformers) (1.3.0)\n",
      "Defaulting to user installation because normal site-packages is not writeable\n",
      "Requirement already satisfied: huggingface-hub in /home/student/.local/lib/python3.10/site-packages (0.25.1)\n",
      "Requirement already satisfied: packaging>=20.9 in /opt/conda/lib/python3.10/site-packages (from huggingface-hub) (23.0)\n",
      "Requirement already satisfied: tqdm>=4.42.1 in /opt/conda/lib/python3.10/site-packages (from huggingface-hub) (4.65.0)\n",
      "Requirement already satisfied: pyyaml>=5.1 in /opt/conda/lib/python3.10/site-packages (from huggingface-hub) (6.0)\n",
      "Requirement already satisfied: fsspec>=2023.5.0 in /opt/conda/lib/python3.10/site-packages (from huggingface-hub) (2024.5.0)\n",
      "Requirement already satisfied: filelock in /opt/conda/lib/python3.10/site-packages (from huggingface-hub) (3.9.0)\n",
      "Requirement already satisfied: requests in /opt/conda/lib/python3.10/site-packages (from huggingface-hub) (2.29.0)\n",
      "Requirement already satisfied: typing-extensions>=3.7.4.3 in /opt/conda/lib/python3.10/site-packages (from huggingface-hub) (4.11.0)\n",
      "Requirement already satisfied: certifi>=2017.4.17 in /opt/conda/lib/python3.10/site-packages (from requests->huggingface-hub) (2023.5.7)\n",
      "Requirement already satisfied: charset-normalizer<4,>=2 in /opt/conda/lib/python3.10/site-packages (from requests->huggingface-hub) (2.0.4)\n",
      "Requirement already satisfied: idna<4,>=2.5 in /opt/conda/lib/python3.10/site-packages (from requests->huggingface-hub) (3.4)\n",
      "Requirement already satisfied: urllib3<1.27,>=1.21.1 in /opt/conda/lib/python3.10/site-packages (from requests->huggingface-hub) (1.26.15)\n"
     ]
    }
   ],
   "source": [
    "!pip install sentence-transformers\n",
    "!pip install huggingface-hub"
   ]
  },
  {
   "cell_type": "code",
   "execution_count": 12,
   "id": "2e9e3613",
   "metadata": {},
   "outputs": [],
   "source": [
    "import chromadb\n",
    "from chromadb.utils import embedding_functions\n",
    "chroma_client = chromadb.Client()"
   ]
  },
  {
   "cell_type": "code",
   "execution_count": 14,
   "id": "f583d749",
   "metadata": {},
   "outputs": [
    {
     "name": "stderr",
     "output_type": "stream",
     "text": [
      "/home/student/.local/lib/python3.10/site-packages/sentence_transformers/cross_encoder/CrossEncoder.py:13: TqdmExperimentalWarning: Using `tqdm.autonotebook.tqdm` in notebook mode. Use `tqdm.tqdm` instead to force console mode (e.g. in jupyter console)\n",
      "  from tqdm.autonotebook import tqdm, trange\n"
     ]
    },
    {
     "data": {
      "application/vnd.jupyter.widget-view+json": {
       "model_id": "a2a85406986b4f4fb7eba78f24f49c2a",
       "version_major": 2,
       "version_minor": 0
      },
      "text/plain": [
       "modules.json:   0%|          | 0.00/349 [00:00<?, ?B/s]"
      ]
     },
     "metadata": {},
     "output_type": "display_data"
    },
    {
     "data": {
      "application/vnd.jupyter.widget-view+json": {
       "model_id": "2a904c830cbf458a94cffffb44638e59",
       "version_major": 2,
       "version_minor": 0
      },
      "text/plain": [
       "config_sentence_transformers.json:   0%|          | 0.00/116 [00:00<?, ?B/s]"
      ]
     },
     "metadata": {},
     "output_type": "display_data"
    },
    {
     "data": {
      "application/vnd.jupyter.widget-view+json": {
       "model_id": "8910f85b2d6b40cf9e7491784b570f09",
       "version_major": 2,
       "version_minor": 0
      },
      "text/plain": [
       "README.md:   0%|          | 0.00/10.6k [00:00<?, ?B/s]"
      ]
     },
     "metadata": {},
     "output_type": "display_data"
    },
    {
     "data": {
      "application/vnd.jupyter.widget-view+json": {
       "model_id": "7905dddb2f4c4728a01f3b2a9c110871",
       "version_major": 2,
       "version_minor": 0
      },
      "text/plain": [
       "sentence_bert_config.json:   0%|          | 0.00/53.0 [00:00<?, ?B/s]"
      ]
     },
     "metadata": {},
     "output_type": "display_data"
    },
    {
     "data": {
      "application/vnd.jupyter.widget-view+json": {
       "model_id": "f41513c73f904ac1bef668f90742f3b2",
       "version_major": 2,
       "version_minor": 0
      },
      "text/plain": [
       "config.json:   0%|          | 0.00/571 [00:00<?, ?B/s]"
      ]
     },
     "metadata": {},
     "output_type": "display_data"
    },
    {
     "data": {
      "application/vnd.jupyter.widget-view+json": {
       "model_id": "dc38e8fdbfb547f4a1595d4eb4660683",
       "version_major": 2,
       "version_minor": 0
      },
      "text/plain": [
       "model.safetensors:   0%|          | 0.00/438M [00:00<?, ?B/s]"
      ]
     },
     "metadata": {},
     "output_type": "display_data"
    },
    {
     "data": {
      "application/vnd.jupyter.widget-view+json": {
       "model_id": "22161dce6b164f949723cf1ebaea35f4",
       "version_major": 2,
       "version_minor": 0
      },
      "text/plain": [
       "tokenizer_config.json:   0%|          | 0.00/363 [00:00<?, ?B/s]"
      ]
     },
     "metadata": {},
     "output_type": "display_data"
    },
    {
     "data": {
      "application/vnd.jupyter.widget-view+json": {
       "model_id": "5eddc01f79e041c49dc359742c1765b4",
       "version_major": 2,
       "version_minor": 0
      },
      "text/plain": [
       "vocab.txt:   0%|          | 0.00/232k [00:00<?, ?B/s]"
      ]
     },
     "metadata": {},
     "output_type": "display_data"
    },
    {
     "data": {
      "application/vnd.jupyter.widget-view+json": {
       "model_id": "1efc763a72bc4308983e5f213c0e1bdd",
       "version_major": 2,
       "version_minor": 0
      },
      "text/plain": [
       "tokenizer.json:   0%|          | 0.00/466k [00:00<?, ?B/s]"
      ]
     },
     "metadata": {},
     "output_type": "display_data"
    },
    {
     "data": {
      "application/vnd.jupyter.widget-view+json": {
       "model_id": "ae50ff91f85544aaa58dcd00201b10da",
       "version_major": 2,
       "version_minor": 0
      },
      "text/plain": [
       "special_tokens_map.json:   0%|          | 0.00/239 [00:00<?, ?B/s]"
      ]
     },
     "metadata": {},
     "output_type": "display_data"
    },
    {
     "name": "stderr",
     "output_type": "stream",
     "text": [
      "/home/student/.local/lib/python3.10/site-packages/transformers/tokenization_utils_base.py:1617: FutureWarning: `clean_up_tokenization_spaces` was not set. It will be set to `True` by default. This behavior will be deprecated in transformers v4.45, and will be then set to `False` by default. For more details check this issue: https://github.com/huggingface/transformers/issues/31884\n",
      "  warnings.warn(\n"
     ]
    },
    {
     "data": {
      "application/vnd.jupyter.widget-view+json": {
       "model_id": "b66cccd590fc4279aa201badaeac3ff5",
       "version_major": 2,
       "version_minor": 0
      },
      "text/plain": [
       "1_Pooling/config.json:   0%|          | 0.00/190 [00:00<?, ?B/s]"
      ]
     },
     "metadata": {},
     "output_type": "display_data"
    }
   ],
   "source": [
    "sentence_transformer_ef = embedding_functions.SentenceTransformerEmbeddingFunction(model_name=\"all-mpnet-base-v2\")\n",
    "collection = chroma_client.create_collection(name=\"real_estate_listing\", embedding_function= sentence_transformer_ef)"
   ]
  },
  {
   "cell_type": "code",
   "execution_count": 15,
   "id": "28a442e6",
   "metadata": {},
   "outputs": [
    {
     "data": {
      "text/plain": [
       "['1', '2', '3', '4', '5', '6', '7', '8', '9', '10']"
      ]
     },
     "execution_count": 15,
     "metadata": {},
     "output_type": "execute_result"
    }
   ],
   "source": [
    "ids = []\n",
    "for i in range(1, num_listings+1):\n",
    "    ids.append(str(i))\n",
    "\n",
    "ids"
   ]
  },
  {
   "cell_type": "code",
   "execution_count": 16,
   "id": "1e4667b3",
   "metadata": {},
   "outputs": [],
   "source": [
    "collection.add(\n",
    "    documents = formatted_neighborhoods\n",
    "    ,ids = ids\n",
    ")"
   ]
  },
  {
   "cell_type": "code",
   "execution_count": 17,
   "id": "e08ebc06",
   "metadata": {},
   "outputs": [
    {
     "data": {
      "text/plain": [
       "{'ids': ['1', '2', '3', '4', '5', '6', '7', '8', '9', '10'],\n",
       " 'embeddings': None,\n",
       " 'metadatas': None,\n",
       " 'documents': ['1. Neighborhood: Sunset Heights Price: $1,200,000 Bedrooms: 4 Bathrooms: 3 House Size: 2,500 sqft  Description: Step into luxury living in this stunning 4-bedroom, 3-bathroom home in Sunset Heights. The spacious open floor plan is perfect for entertaining, with a gourmet kitchen featuring high-end appliances and a large island. The master suite boasts a spa-like bathroom with a soaking tub and walk-in shower. Enjoy the beautiful sunset views from the backyard patio, complete with a built-in BBQ and fire pit.  Neighborhood Description: Sunset Heights is known for its upscale homes and breathtaking views of the city skyline. Residents enjoy easy access to trendy restaurants, boutique shops, and hiking trails in the nearby mountains.',\n",
       "  '2. Neighborhood: Lakeside Estates Price: $950,000 Bedrooms: 5 Bathrooms: 4 House Size: 3,000 sqft  Description: This spacious 5-bedroom, 4-bathroom home in Lakeside Estates offers luxury living at its finest. The gourmet kitchen features granite countertops and stainless steel appliances, while the master suite includes a walk-in closet and en-suite bathroom with a jacuzzi tub. The backyard oasis boasts a sparkling pool, perfect for relaxing on hot summer days.  Neighborhood Description: Lakeside Estates is a prestigious waterfront community with access to a private lake for boating and fishing. Residents can enjoy scenic walking trails, community events, and top-rated schools in the area.',\n",
       "  '3. Neighborhood: Oakwood Park Price: $700,000 Bedrooms: 3 Bathrooms: 2 House Size: 1,800 sqft  Description: Welcome home to this charming 3-bedroom, 2-bathroom house in Oakwood Park. The cozy living room features a fireplace and hardwood floors, while the updated kitchen includes granite countertops and stainless steel appliances. The backyard patio is perfect for outdoor dining and entertaining.  Neighborhood Description: Oakwood Park is a family-friendly neighborhood with tree-lined streets and a community park. Residents can enjoy local cafes, farmers markets, and easy access to public transportation for commuting to downtown.',\n",
       "  '4. Neighborhood: Mountain View Heights Price: $850,000 Bedrooms: 4 Bathrooms: 3 House Size: 2,200 sqft  Description: Enjoy panoramic mountain views from this 4-bedroom, 3-bathroom home in Mountain View Heights. The spacious living room features vaulted ceilings and a cozy fireplace, while the gourmet kitchen boasts granite countertops and a breakfast bar. The master suite includes a walk-in closet and en-suite bathroom with dual sinks.  Neighborhood Description: Mountain View Heights is a peaceful community surrounded by nature trails and parks. Residents can hike, bike, and explore the great outdoors, while still being close to shopping centers, restaurants, and top-rated schools.',\n",
       "  '5. Neighborhood: Riverfront Estates Price: $1,500,000 Bedrooms: 6 Bathrooms: 5 House Size: 4,000 sqft  Description: Live in luxury in this expansive 6-bedroom, 5-bathroom home in Riverfront Estates. The grand foyer leads to a formal dining room and living room with high ceilings and elegant finishes. The gourmet kitchen features a large island and walk-in pantry, while the backyard patio overlooks the tranquil river.  Neighborhood Description: Riverfront Estates is an exclusive waterfront community with private boat docks and access to the river for water activities. Residents can enjoy scenic views, walking paths, and a sense of tranquility in this prestigious neighborhood.',\n",
       "  '6. Neighborhood: Willow Creek Meadows Price: $600,000 Bedrooms: 3 Bathrooms: 2 House Size: 1,600 sqft  Description: This charming 3-bedroom, 2-bathroom home in Willow Creek Meadows is perfect for first-time homebuyers or downsizers. The open-concept living area features a cozy fireplace and hardwood floors, while the updated kitchen includes quartz countertops and stainless steel appliances. The backyard garden is ideal for relaxing and enjoying the peaceful surroundings.  Neighborhood Description: Willow Creek Meadows is a quiet residential neighborhood with tree-lined streets and a community park. Residents can walk to local shops, cafes, and schools, making it a convenient and family-friendly place to call home.',\n",
       "  '7. Neighborhood: Pinecrest Heights Price: $750,000 Bedrooms: 4 Bathrooms: 3 House Size: 2,000 sqft  Description: Welcome to this beautifully renovated 4-bedroom, 3-bathroom home in Pinecrest Heights. The open floor plan features a modern kitchen with quartz countertops and a spacious island, while the master suite includes a walk-in closet and luxurious bathroom with a rain shower. The backyard deck is perfect for outdoor entertaining and enjoying the mountain views.  Neighborhood Description: Pinecrest Heights is a sought-after neighborhood known for its scenic views and proximity to hiking trails and parks. Residents can enjoy a peaceful and active lifestyle, with easy access to shopping, dining, and entertainment options.',\n",
       "  '8. Neighborhood: Maple Grove Estates Price: $900,000 Bedrooms: 5 Bathrooms: 4 House Size: 2,800 sqft  Description: This spacious 5-bedroom, 4-bathroom home in Maple Grove Estates offers luxury living in a peaceful setting. The gourmet kitchen features custom cabinets and high-end appliances, while the master suite includes a sitting area and en-suite bathroom with a soaking tub. The backyard patio is perfect for outdoor dining and relaxing in the hot tub.  Neighborhood Description: Maple Grove Estates is a prestigious community with tree-lined streets and well-maintained homes. Residents can enjoy local parks, golf courses, and shopping centers, as well as top-rated schools and easy access to major highways for commuting.',\n",
       "  '9. Neighborhood: Cedar Ridge Heights Price: $850,000 Bedrooms: 4 Bathrooms: 3 House Size: 2,200 sqft  Description: Step into this beautifully updated 4-bedroom, 3-bathroom home in Cedar Ridge Heights. The open-concept living area features a cozy fireplace and hardwood floors, while the gourmet kitchen boasts quartz countertops and stainless steel appliances. The master suite includes a walk-in closet and en-suite bathroom with a dual vanity.  Neighborhood Description: Cedar Ridge Heights is a quiet and friendly neighborhood with a strong sense of community. Residents can enjoy local parks, walking trails, and nearby shopping and dining options, making it a desirable place to live for families and professionals alike.',\n",
       "  '10. Neighborhood: Oakridge Meadows Price: $700,000 Bedrooms: 3 Bathrooms: 2 House Size: 1,800 sqft  Description: Welcome to this charming 3-bedroom, 2-bathroom home in Oakridge Meadows. The bright and airy living room features a fireplace and hardwood floors, while the updated kitchen includes granite countertops and stainless steel appliances. The backyard patio is perfect for outdoor dining and relaxing in the peaceful surroundings.  Neighborhood Description: Oakridge Meadows is a family-friendly community with tree-lined streets and a community park. Residents can enjoy local cafes, farmers markets, and easy access to public transportation for commuting to downtown.']}"
      ]
     },
     "execution_count": 17,
     "metadata": {},
     "output_type": "execute_result"
    }
   ],
   "source": [
    "collection.get(include = ['documents'])"
   ]
  },
  {
   "cell_type": "code",
   "execution_count": 35,
   "id": "d77cf7ce",
   "metadata": {},
   "outputs": [
    {
     "name": "stdout",
     "output_type": "stream",
     "text": [
      "How big do you want your house to be? A comfortable three-bedroom house with a spacious kitchen and a cozy living room.\n",
      "What are 3 most important things for you in choosing this property? A quiet neighborhood, good local schools, and convenient shopping options.\n",
      "Which amenities would you like? A backyard for gardening, a two-car garage, and a modern, energy-efficient heating system.\n",
      "Which transportation options are important to you? Easy access to a reliable bus line, proximity to a major highway, and bike-friendly roads.\n",
      "How urban do you want your neighborhood to be? A balance between suburban tranquility and access to urban amenities like restaurants and theaters.\n"
     ]
    }
   ],
   "source": [
    "questions = [   \n",
    "\"How big do you want your house to be?\" ,\n",
    "\"What are 3 most important things for you in choosing this property?\", \n",
    "\"Which amenities would you like?\", \n",
    "\"Which transportation options are important to you?\",\n",
    "\"How urban do you want your neighborhood to be?\",   \n",
    "            ]\n",
    "\n",
    "BuyerPreferenceLIST = []\n",
    "BuyerPreferenceString = \"\"\n",
    "for ques in questions:\n",
    "    answer = input(ques+ \" \")\n",
    "    BuyerPreferenceLIST.append(answer)\n",
    "    BuyerPreferenceString = BuyerPreferenceString + answer\n",
    "    \n"
   ]
  },
  {
   "cell_type": "code",
   "execution_count": 36,
   "id": "6debbdbe",
   "metadata": {},
   "outputs": [
    {
     "data": {
      "text/plain": [
       "'A comfortable three-bedroom house with a spacious kitchen and a cozy living room.A quiet neighborhood, good local schools, and convenient shopping options.A backyard for gardening, a two-car garage, and a modern, energy-efficient heating system.Easy access to a reliable bus line, proximity to a major highway, and bike-friendly roads.A balance between suburban tranquility and access to urban amenities like restaurants and theaters.'"
      ]
     },
     "execution_count": 36,
     "metadata": {},
     "output_type": "execute_result"
    }
   ],
   "source": [
    "BuyerPreferenceString"
   ]
  },
  {
   "cell_type": "code",
   "execution_count": 26,
   "id": "f4796183",
   "metadata": {},
   "outputs": [
    {
     "name": "stdout",
     "output_type": "stream",
     "text": [
      "{'ids': [['3', '8']], 'distances': [[0.8516377210617065, 0.8964232206344604]], 'metadatas': None, 'embeddings': None, 'documents': [['3. Neighborhood: Oakwood Park Price: $700,000 Bedrooms: 3 Bathrooms: 2 House Size: 1,800 sqft  Description: Welcome home to this charming 3-bedroom, 2-bathroom house in Oakwood Park. The cozy living room features a fireplace and hardwood floors, while the updated kitchen includes granite countertops and stainless steel appliances. The backyard patio is perfect for outdoor dining and entertaining.  Neighborhood Description: Oakwood Park is a family-friendly neighborhood with tree-lined streets and a community park. Residents can enjoy local cafes, farmers markets, and easy access to public transportation for commuting to downtown.', '8. Neighborhood: Maple Grove Estates Price: $900,000 Bedrooms: 5 Bathrooms: 4 House Size: 2,800 sqft  Description: This spacious 5-bedroom, 4-bathroom home in Maple Grove Estates offers luxury living in a peaceful setting. The gourmet kitchen features custom cabinets and high-end appliances, while the master suite includes a sitting area and en-suite bathroom with a soaking tub. The backyard patio is perfect for outdoor dining and relaxing in the hot tub.  Neighborhood Description: Maple Grove Estates is a prestigious community with tree-lined streets and well-maintained homes. Residents can enjoy local parks, golf courses, and shopping centers, as well as top-rated schools and easy access to major highways for commuting.']]}\n"
     ]
    }
   ],
   "source": [
    "results = collection.query(\n",
    "    query_texts=BuyerPreferenceString, # Chroma will embed this for you\n",
    "    n_results=2, # how many results to return\n",
    "    include = ['documents', 'distances']\n",
    ")\n",
    "print(results)"
   ]
  },
  {
   "cell_type": "code",
   "execution_count": 30,
   "id": "fc8663ea",
   "metadata": {
    "scrolled": true
   },
   "outputs": [
    {
     "data": {
      "text/plain": [
       "'3. Neighborhood: Oakwood Park Price: $700,000 Bedrooms: 3 Bathrooms: 2 House Size: 1,800 sqft  Description: Welcome home to this charming 3-bedroom, 2-bathroom house in Oakwood Park. The cozy living room features a fireplace and hardwood floors, while the updated kitchen includes granite countertops and stainless steel appliances. The backyard patio is perfect for outdoor dining and entertaining.  Neighborhood Description: Oakwood Park is a family-friendly neighborhood with tree-lined streets and a community park. Residents can enjoy local cafes, farmers markets, and easy access to public transportation for commuting to downtown.'"
      ]
     },
     "execution_count": 30,
     "metadata": {},
     "output_type": "execute_result"
    }
   ],
   "source": [
    "results['documents'][0][0]"
   ]
  },
  {
   "cell_type": "code",
   "execution_count": 31,
   "id": "7d2d6b72",
   "metadata": {},
   "outputs": [
    {
     "data": {
      "text/plain": [
       "'8. Neighborhood: Maple Grove Estates Price: $900,000 Bedrooms: 5 Bathrooms: 4 House Size: 2,800 sqft  Description: This spacious 5-bedroom, 4-bathroom home in Maple Grove Estates offers luxury living in a peaceful setting. The gourmet kitchen features custom cabinets and high-end appliances, while the master suite includes a sitting area and en-suite bathroom with a soaking tub. The backyard patio is perfect for outdoor dining and relaxing in the hot tub.  Neighborhood Description: Maple Grove Estates is a prestigious community with tree-lined streets and well-maintained homes. Residents can enjoy local parks, golf courses, and shopping centers, as well as top-rated schools and easy access to major highways for commuting.'"
      ]
     },
     "execution_count": 31,
     "metadata": {},
     "output_type": "execute_result"
    }
   ],
   "source": [
    "results['documents'][0][1]"
   ]
  },
  {
   "cell_type": "code",
   "execution_count": 33,
   "id": "72659333",
   "metadata": {},
   "outputs": [],
   "source": [
    "augmenting = \"\"\"\n",
    "Your role is a real estate expert\n",
    "I will provide you with a buyer preferences and \n",
    "a real estate listing description,\n",
    "make sure to change the real estate description \n",
    "to match the buyer preferences.\n",
    "\n",
    "NOTE: You have to Maintain Factual Integrity, \n",
    "don't change number of bedrooms or bathrooms etc.\n",
    "\n",
    "Enhance this description : {real_estate_description}\n",
    "to match Buyer Preference: {Buyer_Preference}\n",
    "\n",
    "\"\"\"\n",
    "AugmentingPrompt = PromptTemplate.from_template(augmenting)"
   ]
  },
  {
   "cell_type": "code",
   "execution_count": 37,
   "id": "64f3b3af",
   "metadata": {},
   "outputs": [],
   "source": [
    "response2 = model(AugmentingPrompt.format(real_estate_description = results['documents'][0][1], Buyer_Preference = BuyerPreferenceString))"
   ]
  },
  {
   "cell_type": "code",
   "execution_count": 38,
   "id": "10a224c6",
   "metadata": {},
   "outputs": [
    {
     "data": {
      "text/plain": [
       "'Enhanced Description: This cozy 5-bedroom, 4-bathroom home in Maple Grove Estates offers a comfortable living space with a spacious kitchen and a cozy living room. The gourmet kitchen features custom cabinets and high-end appliances, while the master suite includes a sitting area and en-suite bathroom with a soaking tub. The backyard patio is perfect for outdoor dining and relaxing in the hot tub, with space for gardening and a two-car garage. The modern, energy-efficient heating system ensures year-round comfort. \\n\\nMaple Grove Estates is a quiet neighborhood with tree-lined streets and well-maintained homes, offering good local schools and convenient shopping options. Residents can enjoy local parks, golf courses, and easy access to major highways for commuting. The area also provides easy access to a reliable bus line, proximity to a major highway, and bike-friendly roads, striking a perfect balance between suburban tranquility and access to urban amenities like restaurants and theaters.'"
      ]
     },
     "execution_count": 38,
     "metadata": {},
     "output_type": "execute_result"
    }
   ],
   "source": [
    "response2"
   ]
  },
  {
   "cell_type": "code",
   "execution_count": null,
   "id": "fff7faf3",
   "metadata": {},
   "outputs": [],
   "source": []
  }
 ],
 "metadata": {
  "kernelspec": {
   "display_name": "Python 3 (ipykernel)",
   "language": "python",
   "name": "python3"
  },
  "language_info": {
   "codemirror_mode": {
    "name": "ipython",
    "version": 3
   },
   "file_extension": ".py",
   "mimetype": "text/x-python",
   "name": "python",
   "nbconvert_exporter": "python",
   "pygments_lexer": "ipython3",
   "version": "3.10.11"
  }
 },
 "nbformat": 4,
 "nbformat_minor": 5
}
